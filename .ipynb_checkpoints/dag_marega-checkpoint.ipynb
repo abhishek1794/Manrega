{
 "cells": [
  {
   "cell_type": "code",
   "execution_count": null,
   "metadata": {},
   "outputs": [],
   "source": [
    "# General Python Pacakages\n",
    "import os\n",
    "import numpy as np\n",
    "import pandas as pd\n",
    "from datetime import datetime, timedelta\n",
    "\n",
    "# Airflow Related Packages\n",
    "from airflow.models import DAG\n",
    "from airflow.models import Variable\n",
    "from airflow.operators import PythonOperator\n",
    "from airflow.operators.selenium_plugin import SeleniumOperator\n",
    "from selenium_scripts.scrape_trade_yearly_export import get_df as get_df\n",
    "\n",
    "from elasticsearch import Elasticsearch, TransportError\n",
    "\n",
    "data_folder = \"downloads\"\n",
    "\n",
    "\n",
    "\n",
    "\n",
    "args = {\n",
    "    'owner': 'AIDatabases',\n",
    "    'depends_on_past': True,\n",
    "    'email_on_failure': False,\n",
    "    'email_on_retry': False,\n",
    "    'retries': 1,\n",
    "    'retry_delay': timedelta(seconds=5),\n",
    "    'provide_context':True\n",
    "}\n",
    "\n",
    " \n",
    "with DAG(dag_id='extract_manrega', description='manrega', start_date=datetime(2020,12, 4),end_date= None, schedule_interval='@yearly', default_args=args) as dag:\n",
    "    task1 = SeleniumOperator(\n",
    "    script = get_manreg_df,\n",
    "    script_args = [data_folder],\n",
    "    task_id = 'Extract_Manrega_Data')\n",
    "\n",
    "    # Set Dependencies\n",
    "    task1\n"
   ]
  }
 ],
 "metadata": {
  "kernelspec": {
   "display_name": "Python 3",
   "language": "python",
   "name": "python3"
  },
  "language_info": {
   "codemirror_mode": {
    "name": "ipython",
    "version": 3
   },
   "file_extension": ".py",
   "mimetype": "text/x-python",
   "name": "python",
   "nbconvert_exporter": "python",
   "pygments_lexer": "ipython3",
   "version": "3.7.4"
  }
 },
 "nbformat": 4,
 "nbformat_minor": 2
}
